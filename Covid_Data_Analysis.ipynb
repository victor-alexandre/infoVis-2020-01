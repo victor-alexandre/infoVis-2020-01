{
  "nbformat": 4,
  "nbformat_minor": 0,
  "metadata": {
    "colab": {
      "name": "Covid-Data-Analysis.ipynb",
      "provenance": []
    },
    "kernelspec": {
      "name": "python3",
      "display_name": "Python 3"
    }
  },
  "cells": [
    {
      "cell_type": "markdown",
      "metadata": {
        "id": "gIeo8udht3xQ"
      },
      "source": [
        "**Instituto de Informática - UFG**\n",
        "\n",
        "**Disciplina: Information Visualization 2020/1**\n",
        "\n",
        "**Professor: Hugo Alexandre Nascimento Dantas**\n",
        "\n",
        "**Alunos: Victor Alexandre de Carvalho Coelho**"
      ]
    },
    {
      "cell_type": "markdown",
      "metadata": {
        "id": "EP4XaCdvuPD5"
      },
      "source": [
        "###**Description**\n",
        "\n",
        "\n",
        " In this notebook we will do the data cleaning in the [Brasil.io's](https://brasil.io/dataset/covid19/caso_full/) and [Our World in Data's (OWID)](https://github.com/owid/covid-19-data/blob/master/public/data/owid-covid-data.csv) COVID-19 datasets to help us answer the question: **When the COVID-19 outbreak began in all countries and how it has spread between states and cities in Brazil over time?**\n",
        "\n",
        "\n"
      ]
    },
    {
      "cell_type": "markdown",
      "metadata": {
        "id": "hOEwQyT5wCGI"
      },
      "source": [
        "### Cleaning of Our World in Data's (OWID) COVID-19"
      ]
    },
    {
      "cell_type": "code",
      "metadata": {
        "colab": {
          "base_uri": "https://localhost:8080/"
        },
        "id": "q6feOwn1jYRn",
        "outputId": "6f5804a1-2ca4-40fa-d9fa-1249eb25d6db"
      },
      "source": [
        "#This cell is to mount our google drive to save the resulting csv files there\n",
        "\n",
        "#from google.colab import  drive\n",
        "#drive.mount('/drive')"
      ],
      "execution_count": null,
      "outputs": [
        {
          "output_type": "stream",
          "text": [
            "Mounted at /drive\n"
          ],
          "name": "stdout"
        }
      ]
    },
    {
      "cell_type": "code",
      "metadata": {
        "id": "7MWRi0I2eWhK"
      },
      "source": [
        "#This is the main tool we will be using to work with the datasets\n",
        "import pandas as pd"
      ],
      "execution_count": null,
      "outputs": []
    },
    {
      "cell_type": "code",
      "metadata": {
        "colab": {
          "base_uri": "https://localhost:8080/"
        },
        "id": "hJ3o7W9zvh3R",
        "outputId": "58d874ea-fa07-462e-c284-5eb9f94067b7"
      },
      "source": [
        "#Let's a dataframe with the Our World in Data's (OWID) COVID-19 dataset\n",
        "df = pd.read_csv(\"https://raw.githubusercontent.com/owid/covid-19-data/master/public/data/owid-covid-data.csv\", header = None)"
      ],
      "execution_count": null,
      "outputs": [
        {
          "output_type": "stream",
          "text": [
            "/usr/local/lib/python3.6/dist-packages/IPython/core/interactiveshell.py:2718: DtypeWarning: Columns (4,5,6,7,8,9,10,11,12,13,14,15,16,17,18,19,20,21,22,23,24,25,26,27,28,29,30,31,32,34,35,36,37,38,39,40,41,42,43,44,45,46,47,48,49,50,51) have mixed types.Specify dtype option on import or set low_memory=False.\n",
            "  interactivity=interactivity, compiler=compiler, result=result)\n"
          ],
          "name": "stderr"
        }
      ]
    },
    {
      "cell_type": "code",
      "metadata": {
        "colab": {
          "base_uri": "https://localhost:8080/",
          "height": 309
        },
        "id": "cONW8drjvrUb",
        "outputId": "4a84ed38-f9ec-460e-9bea-2f67dfb37ff0"
      },
      "source": [
        "\n",
        "#The first line contains the columns name, therefore, we will remove it and set as a dataset header\n",
        "new_header = df.iloc[0] #grab the first row for the header\n",
        "df = df[1:] #take the data less the header row\n",
        "df.columns = new_header #set the header row as the df header\n",
        "\n",
        "df.head()"
      ],
      "execution_count": null,
      "outputs": [
        {
          "output_type": "execute_result",
          "data": {
            "text/html": [
              "<div>\n",
              "<style scoped>\n",
              "    .dataframe tbody tr th:only-of-type {\n",
              "        vertical-align: middle;\n",
              "    }\n",
              "\n",
              "    .dataframe tbody tr th {\n",
              "        vertical-align: top;\n",
              "    }\n",
              "\n",
              "    .dataframe thead th {\n",
              "        text-align: right;\n",
              "    }\n",
              "</style>\n",
              "<table border=\"1\" class=\"dataframe\">\n",
              "  <thead>\n",
              "    <tr style=\"text-align: right;\">\n",
              "      <th></th>\n",
              "      <th>iso_code</th>\n",
              "      <th>continent</th>\n",
              "      <th>location</th>\n",
              "      <th>date</th>\n",
              "      <th>total_cases</th>\n",
              "      <th>new_cases</th>\n",
              "      <th>new_cases_smoothed</th>\n",
              "      <th>total_deaths</th>\n",
              "      <th>new_deaths</th>\n",
              "      <th>new_deaths_smoothed</th>\n",
              "      <th>total_cases_per_million</th>\n",
              "      <th>new_cases_per_million</th>\n",
              "      <th>new_cases_smoothed_per_million</th>\n",
              "      <th>total_deaths_per_million</th>\n",
              "      <th>new_deaths_per_million</th>\n",
              "      <th>new_deaths_smoothed_per_million</th>\n",
              "      <th>reproduction_rate</th>\n",
              "      <th>icu_patients</th>\n",
              "      <th>icu_patients_per_million</th>\n",
              "      <th>hosp_patients</th>\n",
              "      <th>hosp_patients_per_million</th>\n",
              "      <th>weekly_icu_admissions</th>\n",
              "      <th>weekly_icu_admissions_per_million</th>\n",
              "      <th>weekly_hosp_admissions</th>\n",
              "      <th>weekly_hosp_admissions_per_million</th>\n",
              "      <th>new_tests</th>\n",
              "      <th>total_tests</th>\n",
              "      <th>total_tests_per_thousand</th>\n",
              "      <th>new_tests_per_thousand</th>\n",
              "      <th>new_tests_smoothed</th>\n",
              "      <th>new_tests_smoothed_per_thousand</th>\n",
              "      <th>positive_rate</th>\n",
              "      <th>tests_per_case</th>\n",
              "      <th>tests_units</th>\n",
              "      <th>total_vaccinations</th>\n",
              "      <th>total_vaccinations_per_hundred</th>\n",
              "      <th>stringency_index</th>\n",
              "      <th>population</th>\n",
              "      <th>population_density</th>\n",
              "      <th>median_age</th>\n",
              "      <th>aged_65_older</th>\n",
              "      <th>aged_70_older</th>\n",
              "      <th>gdp_per_capita</th>\n",
              "      <th>extreme_poverty</th>\n",
              "      <th>cardiovasc_death_rate</th>\n",
              "      <th>diabetes_prevalence</th>\n",
              "      <th>female_smokers</th>\n",
              "      <th>male_smokers</th>\n",
              "      <th>handwashing_facilities</th>\n",
              "      <th>hospital_beds_per_thousand</th>\n",
              "      <th>life_expectancy</th>\n",
              "      <th>human_development_index</th>\n",
              "    </tr>\n",
              "  </thead>\n",
              "  <tbody>\n",
              "    <tr>\n",
              "      <th>1</th>\n",
              "      <td>AFG</td>\n",
              "      <td>Asia</td>\n",
              "      <td>Afghanistan</td>\n",
              "      <td>2020-02-24</td>\n",
              "      <td>1.0</td>\n",
              "      <td>1.0</td>\n",
              "      <td>NaN</td>\n",
              "      <td>NaN</td>\n",
              "      <td>NaN</td>\n",
              "      <td>NaN</td>\n",
              "      <td>0.026</td>\n",
              "      <td>0.026</td>\n",
              "      <td>NaN</td>\n",
              "      <td>NaN</td>\n",
              "      <td>NaN</td>\n",
              "      <td>NaN</td>\n",
              "      <td>NaN</td>\n",
              "      <td>NaN</td>\n",
              "      <td>NaN</td>\n",
              "      <td>NaN</td>\n",
              "      <td>NaN</td>\n",
              "      <td>NaN</td>\n",
              "      <td>NaN</td>\n",
              "      <td>NaN</td>\n",
              "      <td>NaN</td>\n",
              "      <td>NaN</td>\n",
              "      <td>NaN</td>\n",
              "      <td>NaN</td>\n",
              "      <td>NaN</td>\n",
              "      <td>NaN</td>\n",
              "      <td>NaN</td>\n",
              "      <td>NaN</td>\n",
              "      <td>NaN</td>\n",
              "      <td>NaN</td>\n",
              "      <td>NaN</td>\n",
              "      <td>NaN</td>\n",
              "      <td>8.33</td>\n",
              "      <td>38928341.0</td>\n",
              "      <td>54.422</td>\n",
              "      <td>18.6</td>\n",
              "      <td>2.581</td>\n",
              "      <td>1.337</td>\n",
              "      <td>1803.987</td>\n",
              "      <td>NaN</td>\n",
              "      <td>597.029</td>\n",
              "      <td>9.59</td>\n",
              "      <td>NaN</td>\n",
              "      <td>NaN</td>\n",
              "      <td>37.746</td>\n",
              "      <td>0.5</td>\n",
              "      <td>64.83</td>\n",
              "      <td>0.498</td>\n",
              "    </tr>\n",
              "    <tr>\n",
              "      <th>2</th>\n",
              "      <td>AFG</td>\n",
              "      <td>Asia</td>\n",
              "      <td>Afghanistan</td>\n",
              "      <td>2020-02-25</td>\n",
              "      <td>1.0</td>\n",
              "      <td>0.0</td>\n",
              "      <td>NaN</td>\n",
              "      <td>NaN</td>\n",
              "      <td>NaN</td>\n",
              "      <td>NaN</td>\n",
              "      <td>0.026</td>\n",
              "      <td>0.0</td>\n",
              "      <td>NaN</td>\n",
              "      <td>NaN</td>\n",
              "      <td>NaN</td>\n",
              "      <td>NaN</td>\n",
              "      <td>NaN</td>\n",
              "      <td>NaN</td>\n",
              "      <td>NaN</td>\n",
              "      <td>NaN</td>\n",
              "      <td>NaN</td>\n",
              "      <td>NaN</td>\n",
              "      <td>NaN</td>\n",
              "      <td>NaN</td>\n",
              "      <td>NaN</td>\n",
              "      <td>NaN</td>\n",
              "      <td>NaN</td>\n",
              "      <td>NaN</td>\n",
              "      <td>NaN</td>\n",
              "      <td>NaN</td>\n",
              "      <td>NaN</td>\n",
              "      <td>NaN</td>\n",
              "      <td>NaN</td>\n",
              "      <td>NaN</td>\n",
              "      <td>NaN</td>\n",
              "      <td>NaN</td>\n",
              "      <td>8.33</td>\n",
              "      <td>38928341.0</td>\n",
              "      <td>54.422</td>\n",
              "      <td>18.6</td>\n",
              "      <td>2.581</td>\n",
              "      <td>1.337</td>\n",
              "      <td>1803.987</td>\n",
              "      <td>NaN</td>\n",
              "      <td>597.029</td>\n",
              "      <td>9.59</td>\n",
              "      <td>NaN</td>\n",
              "      <td>NaN</td>\n",
              "      <td>37.746</td>\n",
              "      <td>0.5</td>\n",
              "      <td>64.83</td>\n",
              "      <td>0.498</td>\n",
              "    </tr>\n",
              "    <tr>\n",
              "      <th>3</th>\n",
              "      <td>AFG</td>\n",
              "      <td>Asia</td>\n",
              "      <td>Afghanistan</td>\n",
              "      <td>2020-02-26</td>\n",
              "      <td>1.0</td>\n",
              "      <td>0.0</td>\n",
              "      <td>NaN</td>\n",
              "      <td>NaN</td>\n",
              "      <td>NaN</td>\n",
              "      <td>NaN</td>\n",
              "      <td>0.026</td>\n",
              "      <td>0.0</td>\n",
              "      <td>NaN</td>\n",
              "      <td>NaN</td>\n",
              "      <td>NaN</td>\n",
              "      <td>NaN</td>\n",
              "      <td>NaN</td>\n",
              "      <td>NaN</td>\n",
              "      <td>NaN</td>\n",
              "      <td>NaN</td>\n",
              "      <td>NaN</td>\n",
              "      <td>NaN</td>\n",
              "      <td>NaN</td>\n",
              "      <td>NaN</td>\n",
              "      <td>NaN</td>\n",
              "      <td>NaN</td>\n",
              "      <td>NaN</td>\n",
              "      <td>NaN</td>\n",
              "      <td>NaN</td>\n",
              "      <td>NaN</td>\n",
              "      <td>NaN</td>\n",
              "      <td>NaN</td>\n",
              "      <td>NaN</td>\n",
              "      <td>NaN</td>\n",
              "      <td>NaN</td>\n",
              "      <td>NaN</td>\n",
              "      <td>8.33</td>\n",
              "      <td>38928341.0</td>\n",
              "      <td>54.422</td>\n",
              "      <td>18.6</td>\n",
              "      <td>2.581</td>\n",
              "      <td>1.337</td>\n",
              "      <td>1803.987</td>\n",
              "      <td>NaN</td>\n",
              "      <td>597.029</td>\n",
              "      <td>9.59</td>\n",
              "      <td>NaN</td>\n",
              "      <td>NaN</td>\n",
              "      <td>37.746</td>\n",
              "      <td>0.5</td>\n",
              "      <td>64.83</td>\n",
              "      <td>0.498</td>\n",
              "    </tr>\n",
              "    <tr>\n",
              "      <th>4</th>\n",
              "      <td>AFG</td>\n",
              "      <td>Asia</td>\n",
              "      <td>Afghanistan</td>\n",
              "      <td>2020-02-27</td>\n",
              "      <td>1.0</td>\n",
              "      <td>0.0</td>\n",
              "      <td>NaN</td>\n",
              "      <td>NaN</td>\n",
              "      <td>NaN</td>\n",
              "      <td>NaN</td>\n",
              "      <td>0.026</td>\n",
              "      <td>0.0</td>\n",
              "      <td>NaN</td>\n",
              "      <td>NaN</td>\n",
              "      <td>NaN</td>\n",
              "      <td>NaN</td>\n",
              "      <td>NaN</td>\n",
              "      <td>NaN</td>\n",
              "      <td>NaN</td>\n",
              "      <td>NaN</td>\n",
              "      <td>NaN</td>\n",
              "      <td>NaN</td>\n",
              "      <td>NaN</td>\n",
              "      <td>NaN</td>\n",
              "      <td>NaN</td>\n",
              "      <td>NaN</td>\n",
              "      <td>NaN</td>\n",
              "      <td>NaN</td>\n",
              "      <td>NaN</td>\n",
              "      <td>NaN</td>\n",
              "      <td>NaN</td>\n",
              "      <td>NaN</td>\n",
              "      <td>NaN</td>\n",
              "      <td>NaN</td>\n",
              "      <td>NaN</td>\n",
              "      <td>NaN</td>\n",
              "      <td>8.33</td>\n",
              "      <td>38928341.0</td>\n",
              "      <td>54.422</td>\n",
              "      <td>18.6</td>\n",
              "      <td>2.581</td>\n",
              "      <td>1.337</td>\n",
              "      <td>1803.987</td>\n",
              "      <td>NaN</td>\n",
              "      <td>597.029</td>\n",
              "      <td>9.59</td>\n",
              "      <td>NaN</td>\n",
              "      <td>NaN</td>\n",
              "      <td>37.746</td>\n",
              "      <td>0.5</td>\n",
              "      <td>64.83</td>\n",
              "      <td>0.498</td>\n",
              "    </tr>\n",
              "    <tr>\n",
              "      <th>5</th>\n",
              "      <td>AFG</td>\n",
              "      <td>Asia</td>\n",
              "      <td>Afghanistan</td>\n",
              "      <td>2020-02-28</td>\n",
              "      <td>1.0</td>\n",
              "      <td>0.0</td>\n",
              "      <td>NaN</td>\n",
              "      <td>NaN</td>\n",
              "      <td>NaN</td>\n",
              "      <td>NaN</td>\n",
              "      <td>0.026</td>\n",
              "      <td>0.0</td>\n",
              "      <td>NaN</td>\n",
              "      <td>NaN</td>\n",
              "      <td>NaN</td>\n",
              "      <td>NaN</td>\n",
              "      <td>NaN</td>\n",
              "      <td>NaN</td>\n",
              "      <td>NaN</td>\n",
              "      <td>NaN</td>\n",
              "      <td>NaN</td>\n",
              "      <td>NaN</td>\n",
              "      <td>NaN</td>\n",
              "      <td>NaN</td>\n",
              "      <td>NaN</td>\n",
              "      <td>NaN</td>\n",
              "      <td>NaN</td>\n",
              "      <td>NaN</td>\n",
              "      <td>NaN</td>\n",
              "      <td>NaN</td>\n",
              "      <td>NaN</td>\n",
              "      <td>NaN</td>\n",
              "      <td>NaN</td>\n",
              "      <td>NaN</td>\n",
              "      <td>NaN</td>\n",
              "      <td>NaN</td>\n",
              "      <td>8.33</td>\n",
              "      <td>38928341.0</td>\n",
              "      <td>54.422</td>\n",
              "      <td>18.6</td>\n",
              "      <td>2.581</td>\n",
              "      <td>1.337</td>\n",
              "      <td>1803.987</td>\n",
              "      <td>NaN</td>\n",
              "      <td>597.029</td>\n",
              "      <td>9.59</td>\n",
              "      <td>NaN</td>\n",
              "      <td>NaN</td>\n",
              "      <td>37.746</td>\n",
              "      <td>0.5</td>\n",
              "      <td>64.83</td>\n",
              "      <td>0.498</td>\n",
              "    </tr>\n",
              "  </tbody>\n",
              "</table>\n",
              "</div>"
            ],
            "text/plain": [
              "0 iso_code continent  ... life_expectancy human_development_index\n",
              "1      AFG      Asia  ...           64.83                   0.498\n",
              "2      AFG      Asia  ...           64.83                   0.498\n",
              "3      AFG      Asia  ...           64.83                   0.498\n",
              "4      AFG      Asia  ...           64.83                   0.498\n",
              "5      AFG      Asia  ...           64.83                   0.498\n",
              "\n",
              "[5 rows x 52 columns]"
            ]
          },
          "metadata": {
            "tags": []
          },
          "execution_count": 16
        }
      ]
    },
    {
      "cell_type": "code",
      "metadata": {
        "colab": {
          "base_uri": "https://localhost:8080/"
        },
        "id": "D4HU7G3fv06l",
        "outputId": "5eecab77-72b4-4638-83d0-745b19bbd292"
      },
      "source": [
        "#Let's check if our columns are with the correct name\n",
        "df.columns"
      ],
      "execution_count": null,
      "outputs": [
        {
          "output_type": "execute_result",
          "data": {
            "text/plain": [
              "Index(['iso_code', 'continent', 'location', 'date', 'total_cases', 'new_cases',\n",
              "       'new_cases_smoothed', 'total_deaths', 'new_deaths',\n",
              "       'new_deaths_smoothed', 'total_cases_per_million',\n",
              "       'new_cases_per_million', 'new_cases_smoothed_per_million',\n",
              "       'total_deaths_per_million', 'new_deaths_per_million',\n",
              "       'new_deaths_smoothed_per_million', 'reproduction_rate', 'icu_patients',\n",
              "       'icu_patients_per_million', 'hosp_patients',\n",
              "       'hosp_patients_per_million', 'weekly_icu_admissions',\n",
              "       'weekly_icu_admissions_per_million', 'weekly_hosp_admissions',\n",
              "       'weekly_hosp_admissions_per_million', 'new_tests', 'total_tests',\n",
              "       'total_tests_per_thousand', 'new_tests_per_thousand',\n",
              "       'new_tests_smoothed', 'new_tests_smoothed_per_thousand',\n",
              "       'positive_rate', 'tests_per_case', 'tests_units', 'total_vaccinations',\n",
              "       'total_vaccinations_per_hundred', 'stringency_index', 'population',\n",
              "       'population_density', 'median_age', 'aged_65_older', 'aged_70_older',\n",
              "       'gdp_per_capita', 'extreme_poverty', 'cardiovasc_death_rate',\n",
              "       'diabetes_prevalence', 'female_smokers', 'male_smokers',\n",
              "       'handwashing_facilities', 'hospital_beds_per_thousand',\n",
              "       'life_expectancy', 'human_development_index'],\n",
              "      dtype='object', name=0)"
            ]
          },
          "metadata": {
            "tags": []
          },
          "execution_count": 19
        }
      ]
    },
    {
      "cell_type": "code",
      "metadata": {
        "colab": {
          "base_uri": "https://localhost:8080/"
        },
        "id": "NcINuvCnvNs1",
        "outputId": "21e26cce-1468-47e1-9cff-b41baef4aaab"
      },
      "source": [
        "#Let's see how many lines and columns our dataset have\n",
        "df.shape"
      ],
      "execution_count": null,
      "outputs": [
        {
          "output_type": "execute_result",
          "data": {
            "text/plain": [
              "(57237, 52)"
            ]
          },
          "metadata": {
            "tags": []
          },
          "execution_count": 48
        }
      ]
    },
    {
      "cell_type": "code",
      "metadata": {
        "id": "pUwTiUDhvtza",
        "colab": {
          "base_uri": "https://localhost:8080/",
          "height": 204
        },
        "outputId": "098a1fe3-bcbf-4207-f40b-f53a526ed447"
      },
      "source": [
        "#Let's get only the columns that help us answer the main question\n",
        "spread_dataset = df[['location', 'date', 'total_cases']].copy()\n",
        "\n",
        "#Remove the lines with NaN values (missing values)\n",
        "spread_dataset = spread_dataset.dropna(subset = ['total_cases'])\n",
        "spread_dataset.head()"
      ],
      "execution_count": null,
      "outputs": [
        {
          "output_type": "execute_result",
          "data": {
            "text/html": [
              "<div>\n",
              "<style scoped>\n",
              "    .dataframe tbody tr th:only-of-type {\n",
              "        vertical-align: middle;\n",
              "    }\n",
              "\n",
              "    .dataframe tbody tr th {\n",
              "        vertical-align: top;\n",
              "    }\n",
              "\n",
              "    .dataframe thead th {\n",
              "        text-align: right;\n",
              "    }\n",
              "</style>\n",
              "<table border=\"1\" class=\"dataframe\">\n",
              "  <thead>\n",
              "    <tr style=\"text-align: right;\">\n",
              "      <th></th>\n",
              "      <th>location</th>\n",
              "      <th>date</th>\n",
              "      <th>total_cases</th>\n",
              "    </tr>\n",
              "  </thead>\n",
              "  <tbody>\n",
              "    <tr>\n",
              "      <th>1</th>\n",
              "      <td>Afghanistan</td>\n",
              "      <td>2020-02-24</td>\n",
              "      <td>1.0</td>\n",
              "    </tr>\n",
              "    <tr>\n",
              "      <th>2</th>\n",
              "      <td>Afghanistan</td>\n",
              "      <td>2020-02-25</td>\n",
              "      <td>1.0</td>\n",
              "    </tr>\n",
              "    <tr>\n",
              "      <th>3</th>\n",
              "      <td>Afghanistan</td>\n",
              "      <td>2020-02-26</td>\n",
              "      <td>1.0</td>\n",
              "    </tr>\n",
              "    <tr>\n",
              "      <th>4</th>\n",
              "      <td>Afghanistan</td>\n",
              "      <td>2020-02-27</td>\n",
              "      <td>1.0</td>\n",
              "    </tr>\n",
              "    <tr>\n",
              "      <th>5</th>\n",
              "      <td>Afghanistan</td>\n",
              "      <td>2020-02-28</td>\n",
              "      <td>1.0</td>\n",
              "    </tr>\n",
              "  </tbody>\n",
              "</table>\n",
              "</div>"
            ],
            "text/plain": [
              "0     location        date total_cases\n",
              "1  Afghanistan  2020-02-24         1.0\n",
              "2  Afghanistan  2020-02-25         1.0\n",
              "3  Afghanistan  2020-02-26         1.0\n",
              "4  Afghanistan  2020-02-27         1.0\n",
              "5  Afghanistan  2020-02-28         1.0"
            ]
          },
          "metadata": {
            "tags": []
          },
          "execution_count": 41
        }
      ]
    },
    {
      "cell_type": "code",
      "metadata": {
        "colab": {
          "base_uri": "https://localhost:8080/"
        },
        "id": "kRs0Sy6JuS1H",
        "outputId": "5de67c4a-3267-43b8-df6d-2eafb4a3f23e"
      },
      "source": [
        "#Let's see how many lines and columns our dataset have\n",
        "spread_dataset.shape"
      ],
      "execution_count": null,
      "outputs": [
        {
          "output_type": "execute_result",
          "data": {
            "text/plain": [
              "(56671, 3)"
            ]
          },
          "metadata": {
            "tags": []
          },
          "execution_count": 42
        }
      ]
    },
    {
      "cell_type": "code",
      "metadata": {
        "id": "nAeWGsQmty9L"
      },
      "source": [
        "#Let's get only the first occurrence of covid cases in each country. \n",
        "spread_dataset = spread_dataset.drop_duplicates(subset=['location'])"
      ],
      "execution_count": null,
      "outputs": []
    },
    {
      "cell_type": "code",
      "metadata": {
        "colab": {
          "base_uri": "https://localhost:8080/",
          "height": 514
        },
        "id": "cpCzekv42bmg",
        "outputId": "12d1adb3-c7c8-48ba-bd2c-0fa8b0329b52"
      },
      "source": [
        "spread_dataset.head(15)"
      ],
      "execution_count": null,
      "outputs": [
        {
          "output_type": "execute_result",
          "data": {
            "text/html": [
              "<div>\n",
              "<style scoped>\n",
              "    .dataframe tbody tr th:only-of-type {\n",
              "        vertical-align: middle;\n",
              "    }\n",
              "\n",
              "    .dataframe tbody tr th {\n",
              "        vertical-align: top;\n",
              "    }\n",
              "\n",
              "    .dataframe thead th {\n",
              "        text-align: right;\n",
              "    }\n",
              "</style>\n",
              "<table border=\"1\" class=\"dataframe\">\n",
              "  <thead>\n",
              "    <tr style=\"text-align: right;\">\n",
              "      <th></th>\n",
              "      <th>location</th>\n",
              "      <th>date</th>\n",
              "      <th>total_cases</th>\n",
              "    </tr>\n",
              "  </thead>\n",
              "  <tbody>\n",
              "    <tr>\n",
              "      <th>1</th>\n",
              "      <td>Afghanistan</td>\n",
              "      <td>2020-02-24</td>\n",
              "      <td>1.0</td>\n",
              "    </tr>\n",
              "    <tr>\n",
              "      <th>312</th>\n",
              "      <td>Albania</td>\n",
              "      <td>2020-03-09</td>\n",
              "      <td>2.0</td>\n",
              "    </tr>\n",
              "    <tr>\n",
              "      <th>609</th>\n",
              "      <td>Algeria</td>\n",
              "      <td>2020-02-25</td>\n",
              "      <td>1.0</td>\n",
              "    </tr>\n",
              "    <tr>\n",
              "      <th>919</th>\n",
              "      <td>Andorra</td>\n",
              "      <td>2020-03-02</td>\n",
              "      <td>1.0</td>\n",
              "    </tr>\n",
              "    <tr>\n",
              "      <th>1223</th>\n",
              "      <td>Angola</td>\n",
              "      <td>2020-03-20</td>\n",
              "      <td>1.0</td>\n",
              "    </tr>\n",
              "    <tr>\n",
              "      <th>1509</th>\n",
              "      <td>Antigua and Barbuda</td>\n",
              "      <td>2020-03-13</td>\n",
              "      <td>1.0</td>\n",
              "    </tr>\n",
              "    <tr>\n",
              "      <th>1832</th>\n",
              "      <td>Argentina</td>\n",
              "      <td>2020-03-03</td>\n",
              "      <td>1.0</td>\n",
              "    </tr>\n",
              "    <tr>\n",
              "      <th>2135</th>\n",
              "      <td>Armenia</td>\n",
              "      <td>2020-03-01</td>\n",
              "      <td>1.0</td>\n",
              "    </tr>\n",
              "    <tr>\n",
              "      <th>2440</th>\n",
              "      <td>Australia</td>\n",
              "      <td>2020-01-26</td>\n",
              "      <td>4.0</td>\n",
              "    </tr>\n",
              "    <tr>\n",
              "      <th>2780</th>\n",
              "      <td>Austria</td>\n",
              "      <td>2020-02-25</td>\n",
              "      <td>2.0</td>\n",
              "    </tr>\n",
              "    <tr>\n",
              "      <th>3090</th>\n",
              "      <td>Azerbaijan</td>\n",
              "      <td>2020-03-01</td>\n",
              "      <td>3.0</td>\n",
              "    </tr>\n",
              "    <tr>\n",
              "      <th>3395</th>\n",
              "      <td>Bahamas</td>\n",
              "      <td>2020-03-16</td>\n",
              "      <td>1.0</td>\n",
              "    </tr>\n",
              "    <tr>\n",
              "      <th>3685</th>\n",
              "      <td>Bahrain</td>\n",
              "      <td>2020-02-24</td>\n",
              "      <td>1.0</td>\n",
              "    </tr>\n",
              "    <tr>\n",
              "      <th>4001</th>\n",
              "      <td>Bangladesh</td>\n",
              "      <td>2020-03-08</td>\n",
              "      <td>3.0</td>\n",
              "    </tr>\n",
              "    <tr>\n",
              "      <th>4299</th>\n",
              "      <td>Barbados</td>\n",
              "      <td>2020-03-17</td>\n",
              "      <td>2.0</td>\n",
              "    </tr>\n",
              "  </tbody>\n",
              "</table>\n",
              "</div>"
            ],
            "text/plain": [
              "0                location        date total_cases\n",
              "1             Afghanistan  2020-02-24         1.0\n",
              "312               Albania  2020-03-09         2.0\n",
              "609               Algeria  2020-02-25         1.0\n",
              "919               Andorra  2020-03-02         1.0\n",
              "1223               Angola  2020-03-20         1.0\n",
              "1509  Antigua and Barbuda  2020-03-13         1.0\n",
              "1832            Argentina  2020-03-03         1.0\n",
              "2135              Armenia  2020-03-01         1.0\n",
              "2440            Australia  2020-01-26         4.0\n",
              "2780              Austria  2020-02-25         2.0\n",
              "3090           Azerbaijan  2020-03-01         3.0\n",
              "3395              Bahamas  2020-03-16         1.0\n",
              "3685              Bahrain  2020-02-24         1.0\n",
              "4001           Bangladesh  2020-03-08         3.0\n",
              "4299             Barbados  2020-03-17         2.0"
            ]
          },
          "metadata": {
            "tags": []
          },
          "execution_count": 49
        }
      ]
    },
    {
      "cell_type": "code",
      "metadata": {
        "colab": {
          "base_uri": "https://localhost:8080/"
        },
        "id": "Cx4I5Lu8w2aY",
        "outputId": "ccf871c8-c749-42ca-d211-033293069dad"
      },
      "source": [
        "#Let's see how many lines and columns our dataset have after removing all duplicates\n",
        "spread_dataset.shape"
      ],
      "execution_count": null,
      "outputs": [
        {
          "output_type": "execute_result",
          "data": {
            "text/plain": [
              "(191, 3)"
            ]
          },
          "metadata": {
            "tags": []
          },
          "execution_count": 50
        }
      ]
    },
    {
      "cell_type": "code",
      "metadata": {
        "id": "toacH7X3xVV2"
      },
      "source": [
        "#We can export the dataset as a csv file to our drive with the command in the line below\n",
        "#spread_dataset.to_csv('/drive/My Drive/facu/Visualização de Informações/spread_dataset.csv')\n",
        "\n",
        "\n",
        "#Let's export our dataset to a csv file\n",
        "spread_dataset.to_csv('spread_dataset.csv')\n",
        "#Let's save the file in our local machine\n",
        "files.download('spread_dataset.csv')"
      ],
      "execution_count": null,
      "outputs": []
    },
    {
      "cell_type": "markdown",
      "metadata": {
        "id": "VHVZD-Bv7G2s"
      },
      "source": [
        "####With this file I have built a visualization to answer **when covid outbreak began in all countries**. It can be seen here on [Tableau Public](https://public.tableau.com/profile/victor.alexandre#!/vizhome/CovidVisualizations_16095185598260/Covidoutbreakworldwide) or you can see an animation of it on [Youtube](https://youtu.be/B2z6AlPl_lE)."
      ]
    },
    {
      "cell_type": "markdown",
      "metadata": {
        "id": "iEbWlQO1wJSh"
      },
      "source": [
        "### Cleaning of Brasil.io's COVID-19"
      ]
    },
    {
      "cell_type": "code",
      "metadata": {
        "id": "urFTD4qcwNQE",
        "colab": {
          "base_uri": "https://localhost:8080/"
        },
        "outputId": "a877e668-bf1f-4f06-e014-d0c30c8e661d"
      },
      "source": [
        "#Let's download the dataset\n",
        "!wget https://data.brasil.io/dataset/covid19/caso_full.csv.gz"
      ],
      "execution_count": null,
      "outputs": [
        {
          "output_type": "stream",
          "text": [
            "--2021-01-01 20:12:54--  https://data.brasil.io/dataset/covid19/caso_full.csv.gz\n",
            "Resolving data.brasil.io (data.brasil.io)... 104.26.9.175, 172.67.71.45, 104.26.8.175, ...\n",
            "Connecting to data.brasil.io (data.brasil.io)|104.26.9.175|:443... connected.\n",
            "HTTP request sent, awaiting response... 200 OK\n",
            "Length: 40835911 (39M) [application/gzip]\n",
            "Saving to: ‘caso_full.csv.gz’\n",
            "\n",
            "caso_full.csv.gz    100%[===================>]  38.94M  11.3MB/s    in 3.8s    \n",
            "\n",
            "2021-01-01 20:12:58 (10.4 MB/s) - ‘caso_full.csv.gz’ saved [40835911/40835911]\n",
            "\n"
          ],
          "name": "stdout"
        }
      ]
    },
    {
      "cell_type": "code",
      "metadata": {
        "colab": {
          "base_uri": "https://localhost:8080/"
        },
        "id": "Q9ukSvh0lG5B",
        "outputId": "7be88466-e3a0-48da-afcc-e7750fa36ff2"
      },
      "source": [
        "#Let's see if the file is in google colab virtual machine\n",
        "!ls"
      ],
      "execution_count": null,
      "outputs": [
        {
          "output_type": "stream",
          "text": [
            "caso_full.csv.gz  sample_data\n"
          ],
          "name": "stdout"
        }
      ]
    },
    {
      "cell_type": "code",
      "metadata": {
        "id": "JNnwJuz3lIO_"
      },
      "source": [
        "#Let's extract the file\n",
        "!gzip -d caso_full.csv.gz"
      ],
      "execution_count": null,
      "outputs": []
    },
    {
      "cell_type": "code",
      "metadata": {
        "colab": {
          "base_uri": "https://localhost:8080/"
        },
        "id": "6uHVaeyClI7L",
        "outputId": "9f7849d0-b50e-4abf-b8f9-d4cce6cac44f"
      },
      "source": [
        "#Let's check if the file was extracted successfully\n",
        "!ls"
      ],
      "execution_count": null,
      "outputs": [
        {
          "output_type": "stream",
          "text": [
            "caso_full.csv  sample_data\n"
          ],
          "name": "stdout"
        }
      ]
    },
    {
      "cell_type": "code",
      "metadata": {
        "id": "chjimpHxleyg"
      },
      "source": [
        "#Let's build another dataframe with the Brasil.io's dataset\n",
        "df = pd.read_csv('caso_full.csv')"
      ],
      "execution_count": null,
      "outputs": []
    },
    {
      "cell_type": "code",
      "metadata": {
        "colab": {
          "base_uri": "https://localhost:8080/"
        },
        "id": "UQQ4BMUim5Dh",
        "outputId": "4c9cd3ee-3648-4f02-93e1-68550d898c31"
      },
      "source": [
        "#Let's see how many lines and columns our dataset have\n",
        "df.shape"
      ],
      "execution_count": null,
      "outputs": [
        {
          "output_type": "execute_result",
          "data": {
            "text/plain": [
              "(1320828, 18)"
            ]
          },
          "metadata": {
            "tags": []
          },
          "execution_count": 12
        }
      ]
    },
    {
      "cell_type": "code",
      "metadata": {
        "colab": {
          "base_uri": "https://localhost:8080/",
          "height": 549
        },
        "id": "QTpZMYw6li9_",
        "outputId": "c465d61a-296e-4b0d-91fe-1ff2e8aae937"
      },
      "source": [
        "df.tail(10)"
      ],
      "execution_count": null,
      "outputs": [
        {
          "output_type": "execute_result",
          "data": {
            "text/html": [
              "<div>\n",
              "<style scoped>\n",
              "    .dataframe tbody tr th:only-of-type {\n",
              "        vertical-align: middle;\n",
              "    }\n",
              "\n",
              "    .dataframe tbody tr th {\n",
              "        vertical-align: top;\n",
              "    }\n",
              "\n",
              "    .dataframe thead th {\n",
              "        text-align: right;\n",
              "    }\n",
              "</style>\n",
              "<table border=\"1\" class=\"dataframe\">\n",
              "  <thead>\n",
              "    <tr style=\"text-align: right;\">\n",
              "      <th></th>\n",
              "      <th>city</th>\n",
              "      <th>city_ibge_code</th>\n",
              "      <th>date</th>\n",
              "      <th>epidemiological_week</th>\n",
              "      <th>estimated_population</th>\n",
              "      <th>estimated_population_2019</th>\n",
              "      <th>is_last</th>\n",
              "      <th>is_repeated</th>\n",
              "      <th>last_available_confirmed</th>\n",
              "      <th>last_available_confirmed_per_100k_inhabitants</th>\n",
              "      <th>last_available_date</th>\n",
              "      <th>last_available_death_rate</th>\n",
              "      <th>last_available_deaths</th>\n",
              "      <th>order_for_place</th>\n",
              "      <th>place_type</th>\n",
              "      <th>state</th>\n",
              "      <th>new_confirmed</th>\n",
              "      <th>new_deaths</th>\n",
              "    </tr>\n",
              "  </thead>\n",
              "  <tbody>\n",
              "    <tr>\n",
              "      <th>1270256</th>\n",
              "      <td>Xambioá</td>\n",
              "      <td>1722107.0</td>\n",
              "      <td>2020-12-22</td>\n",
              "      <td>52</td>\n",
              "      <td>11520.0</td>\n",
              "      <td>11540.0</td>\n",
              "      <td>False</td>\n",
              "      <td>False</td>\n",
              "      <td>1050</td>\n",
              "      <td>9114.58333</td>\n",
              "      <td>2020-12-22</td>\n",
              "      <td>0.0143</td>\n",
              "      <td>15</td>\n",
              "      <td>228</td>\n",
              "      <td>city</td>\n",
              "      <td>TO</td>\n",
              "      <td>9</td>\n",
              "      <td>0</td>\n",
              "    </tr>\n",
              "    <tr>\n",
              "      <th>1275872</th>\n",
              "      <td>Xambioá</td>\n",
              "      <td>1722107.0</td>\n",
              "      <td>2020-12-23</td>\n",
              "      <td>52</td>\n",
              "      <td>11520.0</td>\n",
              "      <td>11540.0</td>\n",
              "      <td>False</td>\n",
              "      <td>False</td>\n",
              "      <td>1050</td>\n",
              "      <td>9114.58333</td>\n",
              "      <td>2020-12-23</td>\n",
              "      <td>0.0143</td>\n",
              "      <td>15</td>\n",
              "      <td>229</td>\n",
              "      <td>city</td>\n",
              "      <td>TO</td>\n",
              "      <td>0</td>\n",
              "      <td>0</td>\n",
              "    </tr>\n",
              "    <tr>\n",
              "      <th>1281488</th>\n",
              "      <td>Xambioá</td>\n",
              "      <td>1722107.0</td>\n",
              "      <td>2020-12-24</td>\n",
              "      <td>52</td>\n",
              "      <td>11520.0</td>\n",
              "      <td>11540.0</td>\n",
              "      <td>False</td>\n",
              "      <td>False</td>\n",
              "      <td>1050</td>\n",
              "      <td>9114.58333</td>\n",
              "      <td>2020-12-24</td>\n",
              "      <td>0.0143</td>\n",
              "      <td>15</td>\n",
              "      <td>230</td>\n",
              "      <td>city</td>\n",
              "      <td>TO</td>\n",
              "      <td>0</td>\n",
              "      <td>0</td>\n",
              "    </tr>\n",
              "    <tr>\n",
              "      <th>1287104</th>\n",
              "      <td>Xambioá</td>\n",
              "      <td>1722107.0</td>\n",
              "      <td>2020-12-25</td>\n",
              "      <td>52</td>\n",
              "      <td>11520.0</td>\n",
              "      <td>11540.0</td>\n",
              "      <td>False</td>\n",
              "      <td>False</td>\n",
              "      <td>1050</td>\n",
              "      <td>9114.58333</td>\n",
              "      <td>2020-12-25</td>\n",
              "      <td>0.0143</td>\n",
              "      <td>15</td>\n",
              "      <td>231</td>\n",
              "      <td>city</td>\n",
              "      <td>TO</td>\n",
              "      <td>0</td>\n",
              "      <td>0</td>\n",
              "    </tr>\n",
              "    <tr>\n",
              "      <th>1292720</th>\n",
              "      <td>Xambioá</td>\n",
              "      <td>1722107.0</td>\n",
              "      <td>2020-12-26</td>\n",
              "      <td>52</td>\n",
              "      <td>11520.0</td>\n",
              "      <td>11540.0</td>\n",
              "      <td>False</td>\n",
              "      <td>False</td>\n",
              "      <td>1050</td>\n",
              "      <td>9114.58333</td>\n",
              "      <td>2020-12-26</td>\n",
              "      <td>0.0143</td>\n",
              "      <td>15</td>\n",
              "      <td>232</td>\n",
              "      <td>city</td>\n",
              "      <td>TO</td>\n",
              "      <td>0</td>\n",
              "      <td>0</td>\n",
              "    </tr>\n",
              "    <tr>\n",
              "      <th>1298336</th>\n",
              "      <td>Xambioá</td>\n",
              "      <td>1722107.0</td>\n",
              "      <td>2020-12-27</td>\n",
              "      <td>53</td>\n",
              "      <td>11520.0</td>\n",
              "      <td>11540.0</td>\n",
              "      <td>False</td>\n",
              "      <td>False</td>\n",
              "      <td>1050</td>\n",
              "      <td>9114.58333</td>\n",
              "      <td>2020-12-27</td>\n",
              "      <td>0.0143</td>\n",
              "      <td>15</td>\n",
              "      <td>233</td>\n",
              "      <td>city</td>\n",
              "      <td>TO</td>\n",
              "      <td>0</td>\n",
              "      <td>0</td>\n",
              "    </tr>\n",
              "    <tr>\n",
              "      <th>1303952</th>\n",
              "      <td>Xambioá</td>\n",
              "      <td>1722107.0</td>\n",
              "      <td>2020-12-28</td>\n",
              "      <td>53</td>\n",
              "      <td>11520.0</td>\n",
              "      <td>11540.0</td>\n",
              "      <td>False</td>\n",
              "      <td>False</td>\n",
              "      <td>1050</td>\n",
              "      <td>9114.58333</td>\n",
              "      <td>2020-12-28</td>\n",
              "      <td>0.0143</td>\n",
              "      <td>15</td>\n",
              "      <td>234</td>\n",
              "      <td>city</td>\n",
              "      <td>TO</td>\n",
              "      <td>0</td>\n",
              "      <td>0</td>\n",
              "    </tr>\n",
              "    <tr>\n",
              "      <th>1309568</th>\n",
              "      <td>Xambioá</td>\n",
              "      <td>1722107.0</td>\n",
              "      <td>2020-12-29</td>\n",
              "      <td>53</td>\n",
              "      <td>11520.0</td>\n",
              "      <td>11540.0</td>\n",
              "      <td>False</td>\n",
              "      <td>False</td>\n",
              "      <td>1050</td>\n",
              "      <td>9114.58333</td>\n",
              "      <td>2020-12-29</td>\n",
              "      <td>0.0143</td>\n",
              "      <td>15</td>\n",
              "      <td>235</td>\n",
              "      <td>city</td>\n",
              "      <td>TO</td>\n",
              "      <td>0</td>\n",
              "      <td>0</td>\n",
              "    </tr>\n",
              "    <tr>\n",
              "      <th>1315184</th>\n",
              "      <td>Xambioá</td>\n",
              "      <td>1722107.0</td>\n",
              "      <td>2020-12-30</td>\n",
              "      <td>53</td>\n",
              "      <td>11520.0</td>\n",
              "      <td>11540.0</td>\n",
              "      <td>True</td>\n",
              "      <td>False</td>\n",
              "      <td>1064</td>\n",
              "      <td>9236.11111</td>\n",
              "      <td>2020-12-30</td>\n",
              "      <td>0.0141</td>\n",
              "      <td>15</td>\n",
              "      <td>236</td>\n",
              "      <td>city</td>\n",
              "      <td>TO</td>\n",
              "      <td>14</td>\n",
              "      <td>0</td>\n",
              "    </tr>\n",
              "    <tr>\n",
              "      <th>1320800</th>\n",
              "      <td>Xambioá</td>\n",
              "      <td>1722107.0</td>\n",
              "      <td>2020-12-31</td>\n",
              "      <td>53</td>\n",
              "      <td>11520.0</td>\n",
              "      <td>11540.0</td>\n",
              "      <td>False</td>\n",
              "      <td>True</td>\n",
              "      <td>1064</td>\n",
              "      <td>9236.11111</td>\n",
              "      <td>2020-12-30</td>\n",
              "      <td>0.0141</td>\n",
              "      <td>15</td>\n",
              "      <td>237</td>\n",
              "      <td>city</td>\n",
              "      <td>TO</td>\n",
              "      <td>0</td>\n",
              "      <td>0</td>\n",
              "    </tr>\n",
              "  </tbody>\n",
              "</table>\n",
              "</div>"
            ],
            "text/plain": [
              "            city  city_ibge_code        date  ...  state  new_confirmed  new_deaths\n",
              "1270256  Xambioá       1722107.0  2020-12-22  ...     TO              9           0\n",
              "1275872  Xambioá       1722107.0  2020-12-23  ...     TO              0           0\n",
              "1281488  Xambioá       1722107.0  2020-12-24  ...     TO              0           0\n",
              "1287104  Xambioá       1722107.0  2020-12-25  ...     TO              0           0\n",
              "1292720  Xambioá       1722107.0  2020-12-26  ...     TO              0           0\n",
              "1298336  Xambioá       1722107.0  2020-12-27  ...     TO              0           0\n",
              "1303952  Xambioá       1722107.0  2020-12-28  ...     TO              0           0\n",
              "1309568  Xambioá       1722107.0  2020-12-29  ...     TO              0           0\n",
              "1315184  Xambioá       1722107.0  2020-12-30  ...     TO             14           0\n",
              "1320800  Xambioá       1722107.0  2020-12-31  ...     TO              0           0\n",
              "\n",
              "[10 rows x 18 columns]"
            ]
          },
          "metadata": {
            "tags": []
          },
          "execution_count": 35
        }
      ]
    },
    {
      "cell_type": "code",
      "metadata": {
        "id": "goPxdHU5msRZ"
      },
      "source": [
        "#Drop state values(rows), we are going to consider only the city ones\n",
        "df = df[df['place_type'] != 'state']"
      ],
      "execution_count": null,
      "outputs": []
    },
    {
      "cell_type": "code",
      "metadata": {
        "colab": {
          "base_uri": "https://localhost:8080/"
        },
        "id": "a1HBvX6m5YjR",
        "outputId": "160af56e-ab8f-4c27-e3ca-93b3b22a8fe1"
      },
      "source": [
        "#Let's see how many lines and columns our dataset have\n",
        "df.shape"
      ],
      "execution_count": null,
      "outputs": [
        {
          "output_type": "execute_result",
          "data": {
            "text/plain": [
              "(1312886, 18)"
            ]
          },
          "metadata": {
            "tags": []
          },
          "execution_count": 34
        }
      ]
    },
    {
      "cell_type": "code",
      "metadata": {
        "colab": {
          "base_uri": "https://localhost:8080/",
          "height": 69
        },
        "id": "kReCiOMy5iuK",
        "outputId": "73990828-4d46-45ae-eb9a-f17cae9c7eaf"
      },
      "source": [
        "#Let's check if there is any row with missing city's name\n",
        "df[df['city'].isnull()]"
      ],
      "execution_count": null,
      "outputs": [
        {
          "output_type": "execute_result",
          "data": {
            "text/html": [
              "<div>\n",
              "<style scoped>\n",
              "    .dataframe tbody tr th:only-of-type {\n",
              "        vertical-align: middle;\n",
              "    }\n",
              "\n",
              "    .dataframe tbody tr th {\n",
              "        vertical-align: top;\n",
              "    }\n",
              "\n",
              "    .dataframe thead th {\n",
              "        text-align: right;\n",
              "    }\n",
              "</style>\n",
              "<table border=\"1\" class=\"dataframe\">\n",
              "  <thead>\n",
              "    <tr style=\"text-align: right;\">\n",
              "      <th></th>\n",
              "      <th>city</th>\n",
              "      <th>city_ibge_code</th>\n",
              "      <th>date</th>\n",
              "      <th>epidemiological_week</th>\n",
              "      <th>estimated_population</th>\n",
              "      <th>estimated_population_2019</th>\n",
              "      <th>is_last</th>\n",
              "      <th>is_repeated</th>\n",
              "      <th>last_available_confirmed</th>\n",
              "      <th>last_available_confirmed_per_100k_inhabitants</th>\n",
              "      <th>last_available_date</th>\n",
              "      <th>last_available_death_rate</th>\n",
              "      <th>last_available_deaths</th>\n",
              "      <th>order_for_place</th>\n",
              "      <th>place_type</th>\n",
              "      <th>state</th>\n",
              "      <th>new_confirmed</th>\n",
              "      <th>new_deaths</th>\n",
              "    </tr>\n",
              "  </thead>\n",
              "  <tbody>\n",
              "  </tbody>\n",
              "</table>\n",
              "</div>"
            ],
            "text/plain": [
              "Empty DataFrame\n",
              "Columns: [city, city_ibge_code, date, epidemiological_week, estimated_population, estimated_population_2019, is_last, is_repeated, last_available_confirmed, last_available_confirmed_per_100k_inhabitants, last_available_date, last_available_death_rate, last_available_deaths, order_for_place, place_type, state, new_confirmed, new_deaths]\n",
              "Index: []"
            ]
          },
          "metadata": {
            "tags": []
          },
          "execution_count": 38
        }
      ]
    },
    {
      "cell_type": "markdown",
      "metadata": {
        "id": "5Ej5CeS_6MtJ"
      },
      "source": [
        "Não há nenhuma linha em que o nome da cidade esteja faltando.\n"
      ]
    },
    {
      "cell_type": "code",
      "metadata": {
        "id": "991JqXP-y_-N"
      },
      "source": [
        "#Let's get only the columns that help us answer the main question\n",
        "#We are saving the ibge code to do a join with the coordinates values (Latitude and Longitude)\n",
        "spread_covid_brazil = df[['city_ibge_code', 'city', 'date', 'new_confirmed']].copy()"
      ],
      "execution_count": null,
      "outputs": []
    },
    {
      "cell_type": "code",
      "metadata": {
        "colab": {
          "base_uri": "https://localhost:8080/",
          "height": 359
        },
        "id": "GJMrA_aI6l-8",
        "outputId": "6131a0c3-e929-4892-8bc7-96a37c287396"
      },
      "source": [
        "spread_covid_brazil.head(10)"
      ],
      "execution_count": null,
      "outputs": [
        {
          "output_type": "execute_result",
          "data": {
            "text/html": [
              "<div>\n",
              "<style scoped>\n",
              "    .dataframe tbody tr th:only-of-type {\n",
              "        vertical-align: middle;\n",
              "    }\n",
              "\n",
              "    .dataframe tbody tr th {\n",
              "        vertical-align: top;\n",
              "    }\n",
              "\n",
              "    .dataframe thead th {\n",
              "        text-align: right;\n",
              "    }\n",
              "</style>\n",
              "<table border=\"1\" class=\"dataframe\">\n",
              "  <thead>\n",
              "    <tr style=\"text-align: right;\">\n",
              "      <th></th>\n",
              "      <th>city_ibge_code</th>\n",
              "      <th>city</th>\n",
              "      <th>date</th>\n",
              "      <th>new_confirmed</th>\n",
              "    </tr>\n",
              "  </thead>\n",
              "  <tbody>\n",
              "    <tr>\n",
              "      <th>2738</th>\n",
              "      <td>1200013.0</td>\n",
              "      <td>Acrelândia</td>\n",
              "      <td>2020-03-29</td>\n",
              "      <td>2</td>\n",
              "    </tr>\n",
              "    <tr>\n",
              "      <th>3105</th>\n",
              "      <td>1200013.0</td>\n",
              "      <td>Acrelândia</td>\n",
              "      <td>2020-03-30</td>\n",
              "      <td>4</td>\n",
              "    </tr>\n",
              "    <tr>\n",
              "      <th>3507</th>\n",
              "      <td>1200013.0</td>\n",
              "      <td>Acrelândia</td>\n",
              "      <td>2020-03-31</td>\n",
              "      <td>1</td>\n",
              "    </tr>\n",
              "    <tr>\n",
              "      <th>3956</th>\n",
              "      <td>1200013.0</td>\n",
              "      <td>Acrelândia</td>\n",
              "      <td>2020-04-01</td>\n",
              "      <td>1</td>\n",
              "    </tr>\n",
              "    <tr>\n",
              "      <th>4442</th>\n",
              "      <td>1200013.0</td>\n",
              "      <td>Acrelândia</td>\n",
              "      <td>2020-04-02</td>\n",
              "      <td>0</td>\n",
              "    </tr>\n",
              "    <tr>\n",
              "      <th>4976</th>\n",
              "      <td>1200013.0</td>\n",
              "      <td>Acrelândia</td>\n",
              "      <td>2020-04-03</td>\n",
              "      <td>1</td>\n",
              "    </tr>\n",
              "    <tr>\n",
              "      <th>5562</th>\n",
              "      <td>1200013.0</td>\n",
              "      <td>Acrelândia</td>\n",
              "      <td>2020-04-04</td>\n",
              "      <td>0</td>\n",
              "    </tr>\n",
              "    <tr>\n",
              "      <th>6187</th>\n",
              "      <td>1200013.0</td>\n",
              "      <td>Acrelândia</td>\n",
              "      <td>2020-04-05</td>\n",
              "      <td>0</td>\n",
              "    </tr>\n",
              "    <tr>\n",
              "      <th>6856</th>\n",
              "      <td>1200013.0</td>\n",
              "      <td>Acrelândia</td>\n",
              "      <td>2020-04-06</td>\n",
              "      <td>0</td>\n",
              "    </tr>\n",
              "    <tr>\n",
              "      <th>7585</th>\n",
              "      <td>1200013.0</td>\n",
              "      <td>Acrelândia</td>\n",
              "      <td>2020-04-07</td>\n",
              "      <td>0</td>\n",
              "    </tr>\n",
              "  </tbody>\n",
              "</table>\n",
              "</div>"
            ],
            "text/plain": [
              "      city_ibge_code        city        date  new_confirmed\n",
              "2738       1200013.0  Acrelândia  2020-03-29              2\n",
              "3105       1200013.0  Acrelândia  2020-03-30              4\n",
              "3507       1200013.0  Acrelândia  2020-03-31              1\n",
              "3956       1200013.0  Acrelândia  2020-04-01              1\n",
              "4442       1200013.0  Acrelândia  2020-04-02              0\n",
              "4976       1200013.0  Acrelândia  2020-04-03              1\n",
              "5562       1200013.0  Acrelândia  2020-04-04              0\n",
              "6187       1200013.0  Acrelândia  2020-04-05              0\n",
              "6856       1200013.0  Acrelândia  2020-04-06              0\n",
              "7585       1200013.0  Acrelândia  2020-04-07              0"
            ]
          },
          "metadata": {
            "tags": []
          },
          "execution_count": 54
        }
      ]
    },
    {
      "cell_type": "code",
      "metadata": {
        "id": "Pz9nGlFfPDes"
      },
      "source": [
        "#Let's change negative values of confirmed cases to zero\n",
        "spread_covid_brazil.loc[spread_covid_brazil['new_confirmed'] < 0, 'new_confirmed'] = 0"
      ],
      "execution_count": null,
      "outputs": []
    },
    {
      "cell_type": "code",
      "metadata": {
        "colab": {
          "base_uri": "https://localhost:8080/",
          "height": 49
        },
        "id": "xLS6ublpM_XC",
        "outputId": "66de18c6-4017-4328-ea98-6c8c0f9d4cde"
      },
      "source": [
        "#Let's check if there is any row with negative values of confirmed cases\n",
        "spread_covid_brazil[spread_covid_brazil['new_confirmed'] < 0]"
      ],
      "execution_count": null,
      "outputs": [
        {
          "output_type": "execute_result",
          "data": {
            "text/html": [
              "<div>\n",
              "<style scoped>\n",
              "    .dataframe tbody tr th:only-of-type {\n",
              "        vertical-align: middle;\n",
              "    }\n",
              "\n",
              "    .dataframe tbody tr th {\n",
              "        vertical-align: top;\n",
              "    }\n",
              "\n",
              "    .dataframe thead th {\n",
              "        text-align: right;\n",
              "    }\n",
              "</style>\n",
              "<table border=\"1\" class=\"dataframe\">\n",
              "  <thead>\n",
              "    <tr style=\"text-align: right;\">\n",
              "      <th></th>\n",
              "      <th>city_ibge_code</th>\n",
              "      <th>city</th>\n",
              "      <th>date</th>\n",
              "      <th>new_confirmed</th>\n",
              "    </tr>\n",
              "  </thead>\n",
              "  <tbody>\n",
              "  </tbody>\n",
              "</table>\n",
              "</div>"
            ],
            "text/plain": [
              "Empty DataFrame\n",
              "Columns: [city_ibge_code, city, date, new_confirmed]\n",
              "Index: []"
            ]
          },
          "metadata": {
            "tags": []
          },
          "execution_count": 53
        }
      ]
    },
    {
      "cell_type": "code",
      "metadata": {
        "colab": {
          "base_uri": "https://localhost:8080/"
        },
        "id": "ZaNDE0zWQFEz",
        "outputId": "40f91be8-506d-4f9b-c0e7-92f76c4cc5c5"
      },
      "source": [
        "#Let's see what is the max value of confirmed cases in one day\n",
        "spread_covid_brazil['new_confirmed'].max()"
      ],
      "execution_count": null,
      "outputs": [
        {
          "output_type": "execute_result",
          "data": {
            "text/plain": [
              "19345"
            ]
          },
          "metadata": {
            "tags": []
          },
          "execution_count": 57
        }
      ]
    },
    {
      "cell_type": "code",
      "metadata": {
        "colab": {
          "base_uri": "https://localhost:8080/",
          "height": 49
        },
        "id": "d07pVU1-ReiQ",
        "outputId": "b896025d-af4f-46be-efcd-2713d19392d3"
      },
      "source": [
        "#Let's check if there is missing values of 'date'\n",
        "spread_covid_brazil[spread_covid_brazil['date'].isnull()]"
      ],
      "execution_count": null,
      "outputs": [
        {
          "output_type": "execute_result",
          "data": {
            "text/html": [
              "<div>\n",
              "<style scoped>\n",
              "    .dataframe tbody tr th:only-of-type {\n",
              "        vertical-align: middle;\n",
              "    }\n",
              "\n",
              "    .dataframe tbody tr th {\n",
              "        vertical-align: top;\n",
              "    }\n",
              "\n",
              "    .dataframe thead th {\n",
              "        text-align: right;\n",
              "    }\n",
              "</style>\n",
              "<table border=\"1\" class=\"dataframe\">\n",
              "  <thead>\n",
              "    <tr style=\"text-align: right;\">\n",
              "      <th></th>\n",
              "      <th>city_ibge_code</th>\n",
              "      <th>city</th>\n",
              "      <th>date</th>\n",
              "      <th>new_confirmed</th>\n",
              "    </tr>\n",
              "  </thead>\n",
              "  <tbody>\n",
              "  </tbody>\n",
              "</table>\n",
              "</div>"
            ],
            "text/plain": [
              "Empty DataFrame\n",
              "Columns: [city_ibge_code, city, date, new_confirmed]\n",
              "Index: []"
            ]
          },
          "metadata": {
            "tags": []
          },
          "execution_count": 58
        }
      ]
    },
    {
      "cell_type": "code",
      "metadata": {
        "colab": {
          "base_uri": "https://localhost:8080/"
        },
        "id": "BtWZcmYb6ngH",
        "outputId": "b32900d6-dc7a-469a-8cad-1b99b2ebca31"
      },
      "source": [
        "#Let's see how many lines and columns our dataset have\n",
        "spread_covid_brazil.shape"
      ],
      "execution_count": null,
      "outputs": [
        {
          "output_type": "execute_result",
          "data": {
            "text/plain": [
              "(1312886, 4)"
            ]
          },
          "metadata": {
            "tags": []
          },
          "execution_count": 55
        }
      ]
    },
    {
      "cell_type": "code",
      "metadata": {
        "id": "vNK2RviB6sI4"
      },
      "source": [
        "#We can export the dataset as a csv file to our drive with the command in the line below\n",
        "#spread_covid_brazil.to_csv('/drive/My Drive/facu/Visualização de Informações/spread_covid_brazil.csv', float_format='%.f')\n",
        "\n",
        "\n",
        "#Let's export our dataset to a csv file.\n",
        "#Obs: We are exporting the float items  (IBGE CODE) without decimal values, so, basically we are converting it to an integer \n",
        "spread_dataset.to_csv('spread_covid_brazil.csv', float_format='%.f')\n",
        "#Let's save the file in our local machine\n",
        "files.download('spread_covid_brazil.csv')"
      ],
      "execution_count": null,
      "outputs": []
    },
    {
      "cell_type": "markdown",
      "metadata": {
        "id": "qA_UXiaCCrM5"
      },
      "source": [
        "####With this file I have built a visualization to answer **how covid has spread in Brazilian cities**. It can be seen here on [Tableau Public](https://public.tableau.com/profile/victor.alexandre#!/vizhome/CovidspreadinBrazilcities/Brazilcovidpropagation) or you can see an animation of it on [Youtube](https://youtu.be/e_KA9tVyQCI)."
      ]
    }
  ]
}